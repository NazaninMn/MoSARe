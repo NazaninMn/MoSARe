{
 "cells": [
  {
   "cell_type": "markdown",
   "id": "eb753e01",
   "metadata": {},
   "source": [
    "# Filter Text Data"
   ]
  },
  {
   "cell_type": "code",
   "execution_count": 7,
   "id": "29a79c67",
   "metadata": {},
   "outputs": [
    {
     "data": {
      "text/html": [
       "<div>\n",
       "<style scoped>\n",
       "    .dataframe tbody tr th:only-of-type {\n",
       "        vertical-align: middle;\n",
       "    }\n",
       "\n",
       "    .dataframe tbody tr th {\n",
       "        vertical-align: top;\n",
       "    }\n",
       "\n",
       "    .dataframe thead th {\n",
       "        text-align: right;\n",
       "    }\n",
       "</style>\n",
       "<table border=\"1\" class=\"dataframe\">\n",
       "  <thead>\n",
       "    <tr style=\"text-align: right;\">\n",
       "      <th></th>\n",
       "      <th>patient_filename</th>\n",
       "      <th>text</th>\n",
       "      <th>case_id</th>\n",
       "    </tr>\n",
       "  </thead>\n",
       "  <tbody>\n",
       "    <tr>\n",
       "      <th>0</th>\n",
       "      <td>TCGA-BP-5195.25c0b433-5557-4165-922e-2c1eac9c26f0</td>\n",
       "      <td>Date of Recelpt: Clinical Diagnosis &amp; History:...</td>\n",
       "      <td>TCGA-BP-5195</td>\n",
       "    </tr>\n",
       "    <tr>\n",
       "      <th>1</th>\n",
       "      <td>TCGA-D7-8573.b7306a47-697d-4ed3-bbe1-81d49674a8f8</td>\n",
       "      <td>Material: 1) Material: stomach, Method of coll...</td>\n",
       "      <td>TCGA-D7-8573</td>\n",
       "    </tr>\n",
       "    <tr>\n",
       "      <th>2</th>\n",
       "      <td>TCGA-EI-7004.13591eed-30e5-47a3-91be-7a370663d2d4</td>\n",
       "      <td>page 1 / 1. copy No. 3. Examination: Histopath...</td>\n",
       "      <td>TCGA-EI-7004</td>\n",
       "    </tr>\n",
       "    <tr>\n",
       "      <th>3</th>\n",
       "      <td>TCGA-EB-A82B.23E186C6-739C-4EF1-8788-79AA89C6E87A</td>\n",
       "      <td>Patient ID: Gross Description: A mass is locat...</td>\n",
       "      <td>TCGA-EB-A82B</td>\n",
       "    </tr>\n",
       "    <tr>\n",
       "      <th>4</th>\n",
       "      <td>TCGA-A6-3808.e1505f65-72ef-438d-a5e1-93ed8bf6635d</td>\n",
       "      <td>SPECIMEN. Right colon. CLINICAL NOTES. PRE-OP ...</td>\n",
       "      <td>TCGA-A6-3808</td>\n",
       "    </tr>\n",
       "  </tbody>\n",
       "</table>\n",
       "</div>"
      ],
      "text/plain": [
       "                                    patient_filename  \\\n",
       "0  TCGA-BP-5195.25c0b433-5557-4165-922e-2c1eac9c26f0   \n",
       "1  TCGA-D7-8573.b7306a47-697d-4ed3-bbe1-81d49674a8f8   \n",
       "2  TCGA-EI-7004.13591eed-30e5-47a3-91be-7a370663d2d4   \n",
       "3  TCGA-EB-A82B.23E186C6-739C-4EF1-8788-79AA89C6E87A   \n",
       "4  TCGA-A6-3808.e1505f65-72ef-438d-a5e1-93ed8bf6635d   \n",
       "\n",
       "                                                text       case_id  \n",
       "0  Date of Recelpt: Clinical Diagnosis & History:...  TCGA-BP-5195  \n",
       "1  Material: 1) Material: stomach, Method of coll...  TCGA-D7-8573  \n",
       "2  page 1 / 1. copy No. 3. Examination: Histopath...  TCGA-EI-7004  \n",
       "3  Patient ID: Gross Description: A mass is locat...  TCGA-EB-A82B  \n",
       "4  SPECIMEN. Right colon. CLINICAL NOTES. PRE-OP ...  TCGA-A6-3808  "
      ]
     },
     "execution_count": 7,
     "metadata": {},
     "output_type": "execute_result"
    }
   ],
   "source": [
    "import pandas as pd\n",
    "\n",
    "df=pd.read_csv('./TCGA_Reports.csv')\n",
    "df['case_id']=df['patient_filename'].apply(lambda x: x.split('.')[0])\n",
    "df.head()"
   ]
  },
  {
   "cell_type": "markdown",
   "id": "d475dfb0",
   "metadata": {},
   "source": [
    "## Filter using string matching"
   ]
  },
  {
   "cell_type": "code",
   "execution_count": 4,
   "id": "daf6b572",
   "metadata": {},
   "outputs": [],
   "source": [
    "# ref:https://stackoverflow.com/a/6117124\n",
    "import re\n",
    "FILTER_LIST=['ductal', 'carcinoma', 'invasive', 'lobular','infiltrating','adenocarcinoma','squamous', 'squamous cell','cell']\n",
    "FILTER_LIST+=['chromophobe', 'clear cell','papillary', 'clear'] # RCC specific filter words\n",
    "def filter_using_regex(text, filter_list=FILTER_LIST):\n",
    "    text=text.lower()\n",
    "    # rep = {\"ductal\": \"\", \"invasive\": \"\",\"carcinoma\":\"\"} # define desired replacements here\n",
    "    rep={x:'' for x in filter_list}\n",
    "    # use these three lines to do the replacement\n",
    "    rep = dict((re.escape(k), v) for k, v in rep.items()) \n",
    "    pattern = re.compile(\"|\".join(rep.keys()))\n",
    "    text = pattern.sub(lambda m: rep[re.escape(m.group(0))], text)\n",
    "    return text"
   ]
  },
  {
   "cell_type": "code",
   "execution_count": 6,
   "id": "c3de1b55",
   "metadata": {
    "scrolled": true
   },
   "outputs": [
    {
     "data": {
      "text/html": [
       "<div>\n",
       "<style scoped>\n",
       "    .dataframe tbody tr th:only-of-type {\n",
       "        vertical-align: middle;\n",
       "    }\n",
       "\n",
       "    .dataframe tbody tr th {\n",
       "        vertical-align: top;\n",
       "    }\n",
       "\n",
       "    .dataframe thead th {\n",
       "        text-align: right;\n",
       "    }\n",
       "</style>\n",
       "<table border=\"1\" class=\"dataframe\">\n",
       "  <thead>\n",
       "    <tr style=\"text-align: right;\">\n",
       "      <th></th>\n",
       "      <th>patient_filename</th>\n",
       "      <th>text</th>\n",
       "      <th>case_id</th>\n",
       "      <th>filtered_text</th>\n",
       "    </tr>\n",
       "  </thead>\n",
       "  <tbody>\n",
       "    <tr>\n",
       "      <th>0</th>\n",
       "      <td>TCGA-BP-5195.25c0b433-5557-4165-922e-2c1eac9c26f0</td>\n",
       "      <td>Date of Recelpt: Clinical Diagnosis &amp; History:...</td>\n",
       "      <td>TCGA-BP-5195</td>\n",
       "      <td>date of recelpt: clinical diagnosis &amp; history:...</td>\n",
       "    </tr>\n",
       "    <tr>\n",
       "      <th>1</th>\n",
       "      <td>TCGA-D7-8573.b7306a47-697d-4ed3-bbe1-81d49674a8f8</td>\n",
       "      <td>Material: 1) Material: stomach, Method of coll...</td>\n",
       "      <td>TCGA-D7-8573</td>\n",
       "      <td>material: 1) material: stomach, method of coll...</td>\n",
       "    </tr>\n",
       "    <tr>\n",
       "      <th>2</th>\n",
       "      <td>TCGA-EI-7004.13591eed-30e5-47a3-91be-7a370663d2d4</td>\n",
       "      <td>page 1 / 1. copy No. 3. Examination: Histopath...</td>\n",
       "      <td>TCGA-EI-7004</td>\n",
       "      <td>page 1 / 1. copy no. 3. examination: histopath...</td>\n",
       "    </tr>\n",
       "    <tr>\n",
       "      <th>3</th>\n",
       "      <td>TCGA-EB-A82B.23E186C6-739C-4EF1-8788-79AA89C6E87A</td>\n",
       "      <td>Patient ID: Gross Description: A mass is locat...</td>\n",
       "      <td>TCGA-EB-A82B</td>\n",
       "      <td>patient id: gross description: a mass is locat...</td>\n",
       "    </tr>\n",
       "    <tr>\n",
       "      <th>4</th>\n",
       "      <td>TCGA-A6-3808.e1505f65-72ef-438d-a5e1-93ed8bf6635d</td>\n",
       "      <td>SPECIMEN. Right colon. CLINICAL NOTES. PRE-OP ...</td>\n",
       "      <td>TCGA-A6-3808</td>\n",
       "      <td>specimen. right colon. clinical notes. pre-op ...</td>\n",
       "    </tr>\n",
       "  </tbody>\n",
       "</table>\n",
       "</div>"
      ],
      "text/plain": [
       "                                    patient_filename  \\\n",
       "0  TCGA-BP-5195.25c0b433-5557-4165-922e-2c1eac9c26f0   \n",
       "1  TCGA-D7-8573.b7306a47-697d-4ed3-bbe1-81d49674a8f8   \n",
       "2  TCGA-EI-7004.13591eed-30e5-47a3-91be-7a370663d2d4   \n",
       "3  TCGA-EB-A82B.23E186C6-739C-4EF1-8788-79AA89C6E87A   \n",
       "4  TCGA-A6-3808.e1505f65-72ef-438d-a5e1-93ed8bf6635d   \n",
       "\n",
       "                                                text       case_id  \\\n",
       "0  Date of Recelpt: Clinical Diagnosis & History:...  TCGA-BP-5195   \n",
       "1  Material: 1) Material: stomach, Method of coll...  TCGA-D7-8573   \n",
       "2  page 1 / 1. copy No. 3. Examination: Histopath...  TCGA-EI-7004   \n",
       "3  Patient ID: Gross Description: A mass is locat...  TCGA-EB-A82B   \n",
       "4  SPECIMEN. Right colon. CLINICAL NOTES. PRE-OP ...  TCGA-A6-3808   \n",
       "\n",
       "                                       filtered_text  \n",
       "0  date of recelpt: clinical diagnosis & history:...  \n",
       "1  material: 1) material: stomach, method of coll...  \n",
       "2  page 1 / 1. copy no. 3. examination: histopath...  \n",
       "3  patient id: gross description: a mass is locat...  \n",
       "4  specimen. right colon. clinical notes. pre-op ...  "
      ]
     },
     "execution_count": 6,
     "metadata": {},
     "output_type": "execute_result"
    }
   ],
   "source": [
    "df['filtered_text']=df['text'].apply(lambda x: filter_using_regex(x))\n",
    "df.head()"
   ]
  },
  {
   "cell_type": "markdown",
   "id": "ac69f3da",
   "metadata": {},
   "source": [
    "## Generate local (sentence-level) and global (document-level) representations using fine-tuned sentence transformer based on ModernBERT \n",
    "\n",
    "GitHub Repo: https://github.com/AnswerDotAI/ModernBERT\n",
    "\n",
    "Specificially used [train_st.py](https://github.com/AnswerDotAI/ModernBERT/blob/main/examples/train_st.py) to fine tune a sentence transformer on Nvidia A100 GPU. We used this fine-tuned model to encode sentences and documents. The 8192 context length is useful for encoding large documents."
   ]
  },
  {
   "cell_type": "code",
   "execution_count": 19,
   "id": "9556df23",
   "metadata": {},
   "outputs": [],
   "source": [
    "from sentence_transformers import SentenceTransformer\n",
    "from transformers import AutoTokenizer, AutoModel\n",
    "import pandas as pd\n",
    "import torch\n",
    "from tqdm.notebook import tqdm\n",
    "import numpy as np"
   ]
  },
  {
   "cell_type": "code",
   "execution_count": 20,
   "id": "e8257c00",
   "metadata": {
    "scrolled": false
   },
   "outputs": [
    {
     "name": "stderr",
     "output_type": "stream",
     "text": [
      "You are attempting to use Flash Attention 2.0 with a model not initialized on GPU. Make sure to move the model to GPU after initializing it on CPU with `model.to('cuda')`.\n"
     ]
    }
   ],
   "source": [
    "device = torch.device('cuda') if torch.cuda.is_available() else torch.device('cpu')\n",
    "model = SentenceTransformer('./output/ModernBERT-large/ModernBERT-large-DPR-8e-05/final/')\n",
    "model = model.to(device)"
   ]
  },
  {
   "cell_type": "markdown",
   "id": "64f55bf8",
   "metadata": {},
   "source": [
    "### Global representations"
   ]
  },
  {
   "cell_type": "code",
   "execution_count": 21,
   "id": "0e64d4b3",
   "metadata": {},
   "outputs": [],
   "source": [
    "import shutil\n",
    "import os\n",
    "save_dir='./filtered_lung_notes_embedding/global/'\n",
    "os.makedirs(save_dir, exist_ok=True)"
   ]
  },
  {
   "cell_type": "code",
   "execution_count": 22,
   "id": "d68c908f",
   "metadata": {},
   "outputs": [
    {
     "data": {
      "application/vnd.jupyter.widget-view+json": {
       "model_id": "c68bb01fef9b47ea97231bd54e9a8c27",
       "version_major": 2,
       "version_minor": 0
      },
      "text/plain": [
       "0it [00:00, ?it/s]"
      ]
     },
     "metadata": {},
     "output_type": "display_data"
    }
   ],
   "source": [
    "for index, row in tqdm(fdf.iterrows()):\n",
    "    name = row['filename'][:-4] # remove .svs from filename\n",
    "    global_text=[row['text_filtered']]\n",
    "    embed=model.encode(global_text)\n",
    "    torch.save(embed, f'{save_dir}/{name}.pt')"
   ]
  },
  {
   "cell_type": "markdown",
   "id": "714ff203",
   "metadata": {},
   "source": [
    "### Local representations"
   ]
  },
  {
   "cell_type": "code",
   "execution_count": 23,
   "id": "40237100",
   "metadata": {},
   "outputs": [],
   "source": [
    "local_save_dir='./filtered_lung_notes_embedding/local/'\n",
    "os.makedirs(local_save_dir, exist_ok=True)"
   ]
  },
  {
   "cell_type": "code",
   "execution_count": 25,
   "id": "7d729bd0",
   "metadata": {},
   "outputs": [
    {
     "data": {
      "application/vnd.jupyter.widget-view+json": {
       "model_id": "3c06d74a0b3a44f6be6bace946495abf",
       "version_major": 2,
       "version_minor": 0
      },
      "text/plain": [
       "0it [00:00, ?it/s]"
      ]
     },
     "metadata": {},
     "output_type": "display_data"
    }
   ],
   "source": [
    "for index, row in tqdm(fdf.iterrows()):\n",
    "    name = row['filename'][:-4] # remove .svs from filename\n",
    "    global_text=row['text_filtered']\n",
    "    local_texts=global_text.split('.')\n",
    "    embeds=list()\n",
    "    for i, txt in enumerate(local_texts):\n",
    "        embed=model.encode([txt])\n",
    "        embeds.append(embed)\n",
    "    \n",
    "    embeds=torch.tensor(np.vstack(embeds))\n",
    "    torch.save(embeds, f'{local_save_dir}/{name}.pt')"
   ]
  },
  {
   "cell_type": "code",
   "execution_count": null,
   "id": "fd92b647",
   "metadata": {},
   "outputs": [],
   "source": []
  },
  {
   "cell_type": "code",
   "execution_count": null,
   "id": "689dd29f",
   "metadata": {},
   "outputs": [],
   "source": []
  },
  {
   "cell_type": "code",
   "execution_count": null,
   "id": "0a27072d",
   "metadata": {},
   "outputs": [],
   "source": []
  },
  {
   "cell_type": "code",
   "execution_count": null,
   "id": "9a7fb2c9",
   "metadata": {},
   "outputs": [],
   "source": []
  },
  {
   "cell_type": "code",
   "execution_count": null,
   "id": "a22adf8b",
   "metadata": {},
   "outputs": [],
   "source": []
  },
  {
   "cell_type": "code",
   "execution_count": null,
   "id": "57ded06e",
   "metadata": {},
   "outputs": [],
   "source": []
  },
  {
   "cell_type": "code",
   "execution_count": null,
   "id": "90ecde57",
   "metadata": {},
   "outputs": [],
   "source": []
  }
 ],
 "metadata": {
  "kernelspec": {
   "display_name": "PyTorch 2.4.0",
   "language": "python",
   "name": "pytorch-2.4.0"
  },
  "language_info": {
   "codemirror_mode": {
    "name": "ipython",
    "version": 3
   },
   "file_extension": ".py",
   "mimetype": "text/x-python",
   "name": "python",
   "nbconvert_exporter": "python",
   "pygments_lexer": "ipython3",
   "version": "3.10.12"
  }
 },
 "nbformat": 4,
 "nbformat_minor": 5
}
